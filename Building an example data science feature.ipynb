{
 "cells": [
  {
   "cell_type": "markdown",
   "id": "dc0d8e92",
   "metadata": {},
   "source": [
    "In this notebook, we'll construct a very simple data science feature from some toy data and then use Hypervector to build a test fixture for  it. We can then run this test repeatedly with our automated test suites to continue to have confidence in our model in a production codebase"
   ]
  },
  {
   "cell_type": "code",
   "execution_count": 3,
   "id": "a328c5d2",
   "metadata": {},
   "outputs": [],
   "source": [
    "import numpy as np\n",
    "import matplotlib.pyplot as plt\n",
    "%matplotlib inline"
   ]
  },
  {
   "cell_type": "markdown",
   "id": "3f4c75c6",
   "metadata": {},
   "source": [
    "# Building a simple classifier"
   ]
  },
  {
   "cell_type": "markdown",
   "id": "8f305f77",
   "metadata": {},
   "source": [
    "## Training data"
   ]
  },
  {
   "cell_type": "code",
   "execution_count": 4,
   "id": "70c74f0b",
   "metadata": {},
   "outputs": [
    {
     "data": {
      "image/png": "[encoded data removed]",
      "text/plain": [
       "<Figure size 720x72 with 1 Axes>"
      ]
     },
     "metadata": {
      "needs_background": "light"
     },
     "output_type": "display_data"
    },
    {
     "data": {
      "image/png": "[encoded data removed]",
      "text/plain": [
       "<Figure size 720x72 with 1 Axes>"
      ]
     },
     "metadata": {
      "needs_background": "light"
     },
     "output_type": "display_data"
    },
    {
     "data": {
      "image/png": "[encoded data removed]",
      "text/plain": [
       "<Figure size 720x72 with 1 Axes>"
      ]
     },
     "metadata": {
      "needs_background": "light"
     },
     "output_type": "display_data"
    },
    {
     "data": {
      "image/png": "[encoded data removed]",
      "text/plain": [
       "<Figure size 720x72 with 1 Axes>"
      ]
     },
     "metadata": {
      "needs_background": "light"
     },
     "output_type": "display_data"
    }
   ],
   "source": [
    "from sklearn.datasets import make_classification\n",
    "\n",
    "X, y = make_classification(\n",
    "    n_samples=5000, \n",
    "    n_features=4, \n",
    "    n_informative=2,\n",
    "    random_state=0\n",
    ")\n",
    "\n",
    "feature_names = ['a', 'b', 'c', 'd']\n",
    "for data, feature_name in zip(list(zip(*X)), feature_names):\n",
    "    plt.figure(figsize=(10, 1))\n",
    "    plt.title(feature_name)\n",
    "    plt.hist(data, bins=50);"
   ]
  },
  {
   "cell_type": "code",
   "execution_count": 5,
   "id": "8d60340e",
   "metadata": {},
   "outputs": [
    {
     "data": {
      "image/png": "[encoded data removed]",
      "text/plain": [
       "<Figure size 360x216 with 1 Axes>"
      ]
     },
     "metadata": {
      "needs_background": "light"
     },
     "output_type": "display_data"
    }
   ],
   "source": [
    "plt.figure(figsize=(5, 3))\n",
    "plt.hist(y);"
   ]
  },
  {
   "cell_type": "markdown",
   "id": "f0b60fa4",
   "metadata": {},
   "source": [
    "## Training a classifier"
   ]
  },
  {
   "cell_type": "code",
   "execution_count": 6,
   "id": "35c43463",
   "metadata": {},
   "outputs": [
    {
     "data": {
      "text/plain": [
       "['pipeline.joblib']"
      ]
     },
     "execution_count": 6,
     "metadata": {},
     "output_type": "execute_result"
    }
   ],
   "source": [
    "from sklearn.model_selection import train_test_split\n",
    "from sklearn.ensemble import RandomForestClassifier\n",
    "from sklearn.pipeline import Pipeline\n",
    "from sklearn.preprocessing import StandardScaler\n",
    "from joblib import dump\n",
    "\n",
    "X_train, X_test, y_train, y_test = train_test_split(X, y)\n",
    "\n",
    "pipeline = Pipeline([\n",
    "    ('scaler', StandardScaler()),\n",
    "    ('rf', RandomForestClassifier())\n",
    "])\n",
    "\n",
    "pipeline.fit(X_train, y_train)\n",
    "\n",
    "dump(pipeline, 'pipeline.joblib')"
   ]
  },
  {
   "cell_type": "code",
   "execution_count": 7,
   "id": "8001eec7",
   "metadata": {},
   "outputs": [
    {
     "data": {
      "text/plain": [
       "0.976"
      ]
     },
     "execution_count": 7,
     "metadata": {},
     "output_type": "execute_result"
    }
   ],
   "source": [
    "from sklearn.metrics import accuracy_score\n",
    "accuracy_score(y_test, pipeline.predict(X_test))"
   ]
  },
  {
   "cell_type": "markdown",
   "id": "e1624b50",
   "metadata": {},
   "source": [
    "# Writing a Hypervector test fixture"
   ]
  },
  {
   "cell_type": "code",
   "execution_count": 8,
   "id": "30285df6",
   "metadata": {},
   "outputs": [],
   "source": [
    "definition_json = {\n",
    "    \"definition_name\": \"Classifier test fixture\",\n",
    "    \"features\": [\n",
    "        {\n",
    "            \"type\": \"float\",\n",
    "            \"distribution\": {\n",
    "              \"type\": \"gaussian\", \"mu\": 0, \"sigma\": 2\n",
    "            }\n",
    "        },\n",
    "        {\n",
    "            \"type\": \"float\",\n",
    "            \"distribution\": {\n",
    "                \"type\": \"mixture\",\n",
    "                \"components\": [\n",
    "                    {\"mu\": -0.75, \"sigma\": 0.5, \"weight\": 2},\n",
    "                    {\"mu\": 0.75, \"sigma\": 0.5, \"weight\": 1}\n",
    "                ]\n",
    "            }\n",
    "        },\n",
    "        {\n",
    "            \"type\": \"float\",\n",
    "            \"distribution\": {\n",
    "                \"type\": \"mixture\",\n",
    "                \"components\": [\n",
    "                    {\"mu\": -1, \"sigma\": 0.5, \"weight\": 1},\n",
    "                    {\"mu\": 1, \"sigma\": 0.5, \"weight\": 2}\n",
    "                ]\n",
    "            }\n",
    "        },\n",
    "        {\n",
    "            \"type\": \"float\",\n",
    "            \"distribution\": {\n",
    "                \"type\": \"gaussian\", \"mu\": 0, \"sigma\": 2\n",
    "            }\n",
    "        },\n",
    "        \n",
    "    ]\n",
    "}"
   ]
  },
  {
   "cell_type": "code",
   "execution_count": 9,
   "id": "b02704c0",
   "metadata": {},
   "outputs": [],
   "source": [
    "import hypervector\n",
    "hypervector.API_KEY = \"32I8kjJNTr6i6x0U7ir2Y_tkm1r2RoJnrW962kbOHbY4Jw8\"\n",
    "\n",
    "# Create new Hypervector Project\n",
    "project = hypervector.Project.new()\n",
    "\n",
    "# Add Definition from JSON\n",
    "definition = hypervector.Definition.new(\n",
    "    definition=definition_json,\n",
    "    project_uuid=project.project_uuid\n",
    ")\n",
    "\n",
    "# Generate Ensemble of 10000 examples from Definition\n",
    "ensemble = hypervector.Ensemble.new(\n",
    "    definition_uuid=definition.definition_uuid,\n",
    "    size=10000\n",
    ")"
   ]
  },
  {
   "cell_type": "code",
   "execution_count": 10,
   "id": "55f283c6",
   "metadata": {},
   "outputs": [
    {
     "name": "stdout",
     "output_type": "stream",
     "text": [
      "32b74bf4-06b8-4c14-a5d2-4c6db4d9fb2c\n"
     ]
    }
   ],
   "source": [
    "print(definition.definition_uuid)"
   ]
  },
  {
   "cell_type": "code",
   "execution_count": 11,
   "id": "f6f34a7a",
   "metadata": {},
   "outputs": [
    {
     "data": {
      "image/png": "[encoded data removed]",
      "text/plain": [
       "<Figure size 720x72 with 1 Axes>"
      ]
     },
     "metadata": {
      "needs_background": "light"
     },
     "output_type": "display_data"
    },
    {
     "data": {
      "image/png": "[encoded data removed]",
      "text/plain": [
       "<Figure size 720x72 with 1 Axes>"
      ]
     },
     "metadata": {
      "needs_background": "light"
     },
     "output_type": "display_data"
    },
    {
     "data": {
      "image/png": "[encoded data removed]",
      "text/plain": [
       "<Figure size 720x72 with 1 Axes>"
      ]
     },
     "metadata": {
      "needs_background": "light"
     },
     "output_type": "display_data"
    },
    {
     "data": {
      "image/png": "[encoded data removed]",
      "text/plain": [
       "<Figure size 720x72 with 1 Axes>"
      ]
     },
     "metadata": {
      "needs_background": "light"
     },
     "output_type": "display_data"
    }
   ],
   "source": [
    "test_fixture_data = ensemble.hypervectors()\n",
    "\n",
    "fixture_names = ['a_fixture', 'b_fixture', 'c_fixture', 'd_fixture']\n",
    "for fixture_data, fixture_name in zip(list(zip(*test_fixture_data)), fixture_names):\n",
    "    plt.figure(figsize=(10,1))\n",
    "    plt.title(fixture_name)\n",
    "    plt.hist(fixture_data, bins=50, color='green');"
   ]
  },
  {
   "cell_type": "markdown",
   "id": "7ff056ae",
   "metadata": {},
   "source": [
    "# Benchmarking classifier output for testing"
   ]
  },
  {
   "cell_type": "code",
   "execution_count": 12,
   "id": "f31d9cc3",
   "metadata": {},
   "outputs": [],
   "source": [
    "# Create Hypervector Benchmark using Ensemble and model output\n",
    "benchmark = hypervector.Benchmark.new(\n",
    "    ensemble=ensemble,\n",
    "    expected_output=pipeline.predict(test_fixture_data)\n",
    ")"
   ]
  },
  {
   "cell_type": "code",
   "execution_count": 13,
   "id": "dacd0c45",
   "metadata": {},
   "outputs": [
    {
     "data": {
      "text/plain": [
       "{'assertion_uuid': '71f990e9-e336-4207-b146-870f72093d1b',\n",
       " 'timestamp': '2021/06/08 13:06:42',\n",
       " 'benchmark_uuid': 'fce8ef24-fc2f-4d0d-819b-209289a02734',\n",
       " 'ensemble_uuid': 'e6ed88c0-6fb0-4b6a-bad3-90adfc0e3d17',\n",
       " 'asserted': True,\n",
       " 'diff': None}"
      ]
     },
     "execution_count": 13,
     "metadata": {},
     "output_type": "execute_result"
    }
   ],
   "source": [
    "# Test using same data to verify Benchmark created successfully\n",
    "benchmark.assert_equal(pipeline.predict(test_fixture_data))"
   ]
  },
  {
   "cell_type": "markdown",
   "id": "6f897985",
   "metadata": {},
   "source": [
    "### We're now ready to use this Benchmark in our test suites!"
   ]
  }
 ],
 "metadata": {
  "kernelspec": {
   "display_name": "Python 3",
   "language": "python",
   "name": "python3"
  },
  "language_info": {
   "codemirror_mode": {
    "name": "ipython",
    "version": 3
   },
   "file_extension": ".py",
   "mimetype": "text/x-python",
   "name": "python",
   "nbconvert_exporter": "python",
   "pygments_lexer": "ipython3",
   "version": "3.8.5"
  }
 },
 "nbformat": 4,
 "nbformat_minor": 5
}
